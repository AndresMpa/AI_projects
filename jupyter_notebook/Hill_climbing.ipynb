{
  "nbformat": 4,
  "nbformat_minor": 0,
  "metadata": {
    "colab": {
      "name": "Hill_climbing.ipynb",
      "provenance": []
    },
    "kernelspec": {
      "name": "python3",
      "display_name": "Python 3"
    }
  },
  "cells": [
    {
      "cell_type": "code",
      "metadata": {
        "id": "clKko6RcDotv",
        "outputId": "a48475e9-c774-43e5-b22f-7a74a9fd055d",
        "colab": {
          "base_uri": "https://localhost:8080/",
          "height": 402
        }
      },
      "source": [
        "pip install tsplib95 && pip install simpleai\n"
      ],
      "execution_count": 2,
      "outputs": [
        {
          "output_type": "stream",
          "text": [
            "Collecting tsplib95\n",
            "  Downloading https://files.pythonhosted.org/packages/a0/2b/b1932d3674758ec5f49afa72d4519334a5ac2aac4d96cfd416eb872a1959/tsplib95-0.7.1-py2.py3-none-any.whl\n",
            "Collecting Deprecated~=1.2.9\n",
            "  Downloading https://files.pythonhosted.org/packages/76/a1/05d7f62f956d77b23a640efc650f80ce24483aa2f85a09c03fb64f49e879/Deprecated-1.2.10-py2.py3-none-any.whl\n",
            "Requirement already satisfied: networkx~=2.1 in /usr/local/lib/python3.6/dist-packages (from tsplib95) (2.5)\n",
            "Requirement already satisfied: tabulate~=0.8.7 in /usr/local/lib/python3.6/dist-packages (from tsplib95) (0.8.7)\n",
            "Requirement already satisfied: Click>=6.0 in /usr/local/lib/python3.6/dist-packages (from tsplib95) (7.1.2)\n",
            "Requirement already satisfied: wrapt<2,>=1.10 in /usr/local/lib/python3.6/dist-packages (from Deprecated~=1.2.9->tsplib95) (1.12.1)\n",
            "Requirement already satisfied: decorator>=4.3.0 in /usr/local/lib/python3.6/dist-packages (from networkx~=2.1->tsplib95) (4.4.2)\n",
            "Installing collected packages: Deprecated, tsplib95\n",
            "Successfully installed Deprecated-1.2.10 tsplib95-0.7.1\n",
            "Collecting simpleai\n",
            "\u001b[?25l  Downloading https://files.pythonhosted.org/packages/7c/c3/bb7394c293d0b844598b2ad041e3507414621cb6c44b6846dda7ebfbd2eb/simpleai-0.8.2.tar.gz (94kB)\n",
            "\u001b[K     |████████████████████████████████| 102kB 3.0MB/s \n",
            "\u001b[?25hBuilding wheels for collected packages: simpleai\n",
            "  Building wheel for simpleai (setup.py) ... \u001b[?25l\u001b[?25hdone\n",
            "  Created wheel for simpleai: filename=simpleai-0.8.2-cp36-none-any.whl size=100981 sha256=bfbd9c1d77b00d074b5b0d3fb26f50525e7bbc2e3fe6c7782250e20745cd3797\n",
            "  Stored in directory: /root/.cache/pip/wheels/eb/79/f6/e69832e2d3d025b69bc6342ef5b408c15bd81c26e949155bdc\n",
            "Successfully built simpleai\n",
            "Installing collected packages: simpleai\n",
            "Successfully installed simpleai-0.8.2\n"
          ],
          "name": "stdout"
        }
      ]
    },
    {
      "cell_type": "code",
      "metadata": {
        "id": "77XJV2EfBLxn",
        "outputId": "1c30c6dd-d032-4d31-b775-8645196c6664",
        "colab": {
          "base_uri": "https://localhost:8080/",
          "height": 52
        }
      },
      "source": [
        "from simpleai.search import SearchProblem, hill_climbing_random_restarts\n",
        "import tsplib95\n",
        "import random\n",
        "\n",
        "\n",
        "class TSPProblem(SearchProblem):\n",
        "    def crossover(self, state1, state2):\n",
        "        pass\n",
        "\n",
        "    def mutate(self, state):\n",
        "        pass\n",
        "\n",
        "    def is_goal(self, state):\n",
        "        pass\n",
        "\n",
        "    def __init__(self, graph):\n",
        "        self.graph = graph\n",
        "        self.tour = list(graph.nodes)\n",
        "        super(TSPProblem, self).__init__(initial_state=random.sample(self.tour, len(self.tour)))\n",
        "\n",
        "    def actions(self, state):\n",
        "        actions = []\n",
        "        num_cities = len(self.tour)\n",
        "        x = random.randint(0, num_cities)\n",
        "        y = random.randint(0, num_cities)\n",
        "        while x == y or y == min(x, y):\n",
        "            x = random.randint(0, num_cities)\n",
        "            y = random.randint(0, num_cities)\n",
        "            \n",
        "        state = state[0:x + 1] + list(reversed(state[x + 1:y])) + state[y:]\n",
        "        actions.append(('2-change at ' + str(x) + ' and ' + str(y), state))\n",
        "        return actions\n",
        "\n",
        "    def result(self, state, action):\n",
        "        return action[1]\n",
        "\n",
        "    def value(self, state):\n",
        "        return self.__tour_length(state)\n",
        "\n",
        "    def generate_random_state(self):\n",
        "        return random.sample(self.tour, len(self.tour))\n",
        "\n",
        "    def __tour_length(self, state):\n",
        "        return sum(self.graph.edges[state[i - 1], state[i]]['weight'] for i in range(len(state)))\n",
        "\n",
        "\n",
        "def init_random_tour(tour_length):\n",
        "    tour = range(tour_length)\n",
        "    random.shuffle(tour)\n",
        "    return tour\n",
        "\n",
        "\n",
        "init_function = lambda: init_random_tour(len(coords))\n",
        "objective_function = lambda tour: -tour_length(matrix, tour)\n",
        "\n",
        "\n",
        "def hillclimb(init_function, move_operator, objective_function, max_evaluations):\n",
        "    best = init_function()\n",
        "    best_score = objective_function(best)\n",
        "\n",
        "    num_evaluations = 1\n",
        "\n",
        "    while num_evaluations < max_evaluations:\n",
        "        move_made = False\n",
        "        for next in move_operator(best):\n",
        "            if num_evaluations >= max_evaluations:\n",
        "                break\n",
        "\n",
        "        next_score = objective_function(next)\n",
        "        num_evaluations += 1\n",
        "        if next_score > best_score:\n",
        "            best = next\n",
        "            best_score = next_score\n",
        "            move_made = True\n",
        "            break\n",
        "            \n",
        "        if not move_made:\n",
        "            break\n",
        "            \n",
        "\n",
        "    return num_evaluations, best_score, best\n",
        "\n",
        "opt = tsplib95.load('./wi29.opt.tour')\n",
        "wi29 = tsplib95.load('./wi29.tsp')\n",
        "G = wi29.get_graph()\n",
        "\n",
        "wi29.trace_tours(opt.tours)\n",
        "\n",
        "\n",
        "result = hill_climbing_random_restarts(TSPProblem(G), restarts_limit=200)\n",
        "print(result.value)\n",
        "print(result)\n"
      ],
      "execution_count": 6,
      "outputs": [
        {
          "output_type": "stream",
          "text": [
            "131641\n",
            "Node <[29, 5, 14, 9, 18, 1, 15, 22, 16, 23, 4, 13, 25, 7, 24, 8, 20, 19, 17, 12, 27, 21, 6, 26, 10, 11, 3, 28, 2]>\n"
          ],
          "name": "stdout"
        }
      ]
    }
  ]
}