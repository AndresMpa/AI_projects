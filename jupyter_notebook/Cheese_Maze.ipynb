{
  "nbformat": 4,
  "nbformat_minor": 0,
  "metadata": {
    "colab": {
      "name": "Cheese_Maze",
      "provenance": [],
      "collapsed_sections": []
    },
    "kernelspec": {
      "name": "python3",
      "display_name": "Python 3"
    }
  },
  "cells": [
    {
      "cell_type": "code",
      "metadata": {
        "id": "2M8XRM1Skscv",
        "colab_type": "code",
        "colab": {}
      },
      "source": [
        "from agents import *\n",
        "from random import choice"
      ],
      "execution_count": 22,
      "outputs": []
    },
    {
      "cell_type": "code",
      "metadata": {
        "id": "mGlrzPhZmMbR",
        "colab_type": "code",
        "colab": {}
      },
      "source": [
        "class CheeseMaze(GraphicEnvironment):\n",
        "    def percept(self, agent):\n",
        "        things = self.list_things_at(agent.location)\n",
        "        loc = copy.deepcopy(agent.location)\n",
        "        \n",
        "        if agent.direction.direction == Direction.R:\n",
        "            loc[0] += 1\n",
        "        elif agent.direction.direction == Direction.L:\n",
        "            loc[0] -= 1\n",
        "        elif agent.direction.direction == Direction.D:\n",
        "            loc[1] += 1\n",
        "        elif agent.direction.direction == Direction.U:\n",
        "            loc[1] -= 1\n",
        "        if not self.is_inbounds(loc):\n",
        "            print(\"The rat hit itself with an edge\")\n",
        "            things.append(Bump())\n",
        "        return things\n",
        "    \n",
        "    def execute_action(self, agent, action):\n",
        "        if action == 'turnright':\n",
        "            print('{} decided to {} at location: {}'.format(str(agent)[1:-1], action, agent.location))\n",
        "            agent.turn(Direction.R)\n",
        "        elif action == 'turnleft':\n",
        "            print('{} decided to {} at location: {}'.format(str(agent)[1:-1], action, agent.location))\n",
        "            agent.turn(Direction.L)\n",
        "        elif action == 'moveforward':\n",
        "            print('{} decided to move {} wards at location: {}'.format(str(agent)[1:-1], agent.direction.direction, agent.location))\n",
        "            agent.moveforward()\n",
        "        elif action == \"eat\":\n",
        "            items = self.list_things_at(agent.location, tclass=Cheese)\n",
        "            if len(items) != 0:\n",
        "                if agent.eat(items[0]):\n",
        "                    print('{} ate {} at location: {}'\n",
        "                          .format(str(agent)[1:-1], str(items[0])[1:-1], agent.location))\n",
        "                    self.delete_thing(items[0])\n",
        "        elif action == \"hit\":\n",
        "            items = self.list_things_at(agent.location, tclass=Wall)\n",
        "            if len(items) != 0:\n",
        "                if agent.hit(items[0]):\n",
        "                    print('{} hit itself with {} at location: {}'\n",
        "                          .format(str(agent)[1:-1], str(items[0])[1:-1], agent.location))\n",
        "                    \n",
        "    def is_done(self):\n",
        "        no_edibles = not any(isinstance(thing, Cheese) for thing in self.things)\n",
        "        dead_agents = not any(agent.is_alive() for agent in self.agents)\n",
        "        return dead_agents or no_edibles"
      ],
      "execution_count": 20,
      "outputs": []
    },
    {
      "cell_type": "code",
      "metadata": {
        "id": "zahxQJgJk40n",
        "colab_type": "code",
        "colab": {}
      },
      "source": [
        "class TestRat(Agent):\n",
        "    next_step = 1\n",
        "    next_guide = 0\n",
        "    location = [0,1]\n",
        "    direction = Direction(\"right\")\n",
        "    \n",
        "    def moveforward(self, success=True):\n",
        "        if not success:\n",
        "            return\n",
        "        if self.direction.direction == Direction.R:\n",
        "            self.next_step = 1\n",
        "            self.next_guide = 0\n",
        "            self.location[self.next_guide] += self.next_step\n",
        "        elif self.direction.direction == Direction.L:\n",
        "            self.next_step = -1\n",
        "            self.next_guide = 0\n",
        "            self.location[self.next_guide] += self.next_step\n",
        "        elif self.direction.direction == Direction.D:\n",
        "            self.next_step = 1\n",
        "            self.next_guide = 1\n",
        "            self.location[self.next_guide] += self.next_step\n",
        "        elif self.direction.direction == Direction.U:\n",
        "            self.next_step = -1\n",
        "            self.next_guide = 1\n",
        "            self.location[self.next_guide] += self.next_step\n",
        "    \n",
        "    def turn(self, d):\n",
        "        self.direction = self.direction + d\n",
        "        \n",
        "    def eat(self, thing):\n",
        "        if isinstance(thing, Cheese):\n",
        "            return True\n",
        "        return False\n",
        "\n",
        "    def hit(self, thing):\n",
        "        if isinstance(thing, Wall):\n",
        "            self.next_step *= -1\n",
        "            self.location[self.next_guide] += self.next_step\n",
        "            return True\n",
        "        return False"
      ],
      "execution_count": 38,
      "outputs": []
    },
    {
      "cell_type": "code",
      "metadata": {
        "id": "ec1ASALknGmd",
        "colab_type": "code",
        "colab": {}
      },
      "source": [
        "class Cheese(Thing):\n",
        "    pass"
      ],
      "execution_count": 16,
      "outputs": []
    },
    {
      "cell_type": "code",
      "metadata": {
        "id": "yqbNhph-I6x9",
        "colab_type": "code",
        "colab": {}
      },
      "source": [
        "class Wall(Thing):\n",
        "    pass"
      ],
      "execution_count": 18,
      "outputs": []
    },
    {
      "cell_type": "code",
      "metadata": {
        "id": "tLhKGgLpmRmG",
        "colab_type": "code",
        "colab": {}
      },
      "source": [
        "def program(percepts):\n",
        "    for perceptive in percepts:\n",
        "        if isinstance(perceptive, Cheese):\n",
        "            return 'eat'\n",
        "        if isinstance(perceptive, Wall):\n",
        "            return 'hit'\n",
        "            turn = False\n",
        "            choice = random.choice((1, 2, 3, 4))\n",
        "        if isinstance(perceptive, Bump):\n",
        "            turn = False\n",
        "            choice = random.choice((1, 2))\n",
        "        else:\n",
        "            choice = random.choice((1, 2, 3, 4))\n",
        "    if choice == 1:\n",
        "        return 'turnright'\n",
        "    elif choice == 2:\n",
        "        return 'turnleft'\n",
        "    else:\n",
        "        return 'moveforward'"
      ],
      "execution_count": 19,
      "outputs": []
    },
    {
      "cell_type": "code",
      "metadata": {
        "id": "fBMJOX3Mm5iy",
        "colab_type": "code",
        "colab": {
          "base_uri": "https://localhost:8080/",
          "height": 139
        },
        "outputId": "b8fdca3f-6b44-4edc-c34a-ac5292283861"
      },
      "source": [
        "test_field = CheeseMaze(5,5, color={'TestRat': (200,0,0), 'Cheese': (230, 115, 40), 'Wall': (69, 92, 245)})\n",
        "\n",
        "rat = TestRat(program)\n",
        "test_field.add_thing(rat, [0,0])\n",
        "\n",
        "rat_goal_1 = Cheese()\n",
        "test_field.add_thing(rat_goal_1, [1,2])\n",
        "\n",
        "rat_goal_2 = Cheese()\n",
        "test_field.add_thing(rat_goal_2, [4,3])\n",
        "\n",
        "maze_walls = [[0, 1], [1, 1], [2, 1],\n",
        "              [2, 2], [1, 4], [4, 1],\n",
        "              [4, 2], [4, 4], [0, 4]]\n",
        "\n",
        "for position in maze_walls:\n",
        "    wall = Wall()\n",
        "    test_field.add_thing(wall, position)\n",
        "\n",
        "print(\"Rat started at [0,0], facing right. Let's see if he found any cheese!\")\n",
        "\n",
        "test_field.run(50)"
      ],
      "execution_count": 39,
      "outputs": [
        {
          "output_type": "display_data",
          "data": {
            "text/html": [
              "<style type=\"text/css\">table.blockgrid {border: none;} .blockgrid tr {border: none;} .blockgrid td {padding: 0px;} #blocks25f9abab-f8a1-4d51-a1e3-5fa17faa35fd td {border: 1px solid white;}</style><table id=\"blocks25f9abab-f8a1-4d51-a1e3-5fa17faa35fd\" class=\"blockgrid\"><tbody><tr><td title=\"Index: [0, 0]&#10;Color: (200, 200, 200)\" style=\"width: 20px; height: 20px;background-color: rgb(200, 200, 200);\"></td><td title=\"Index: [0, 1]&#10;Color: (200, 200, 200)\" style=\"width: 20px; height: 20px;background-color: rgb(200, 200, 200);\"></td><td title=\"Index: [0, 2]&#10;Color: (200, 200, 200)\" style=\"width: 20px; height: 20px;background-color: rgb(200, 200, 200);\"></td><td title=\"Index: [0, 3]&#10;Color: (200, 200, 200)\" style=\"width: 20px; height: 20px;background-color: rgb(200, 200, 200);\"></td><td title=\"Index: [0, 4]&#10;Color: (200, 0, 0)\" style=\"width: 20px; height: 20px;background-color: rgb(200, 0, 0);\"></td></tr><tr><td title=\"Index: [1, 0]&#10;Color: (69, 92, 245)\" style=\"width: 20px; height: 20px;background-color: rgb(69, 92, 245);\"></td><td title=\"Index: [1, 1]&#10;Color: (69, 92, 245)\" style=\"width: 20px; height: 20px;background-color: rgb(69, 92, 245);\"></td><td title=\"Index: [1, 2]&#10;Color: (69, 92, 245)\" style=\"width: 20px; height: 20px;background-color: rgb(69, 92, 245);\"></td><td title=\"Index: [1, 3]&#10;Color: (200, 200, 200)\" style=\"width: 20px; height: 20px;background-color: rgb(200, 200, 200);\"></td><td title=\"Index: [1, 4]&#10;Color: (69, 92, 245)\" style=\"width: 20px; height: 20px;background-color: rgb(69, 92, 245);\"></td></tr><tr><td title=\"Index: [2, 0]&#10;Color: (200, 200, 200)\" style=\"width: 20px; height: 20px;background-color: rgb(200, 200, 200);\"></td><td title=\"Index: [2, 1]&#10;Color: (230, 115, 40)\" style=\"width: 20px; height: 20px;background-color: rgb(230, 115, 40);\"></td><td title=\"Index: [2, 2]&#10;Color: (69, 92, 245)\" style=\"width: 20px; height: 20px;background-color: rgb(69, 92, 245);\"></td><td title=\"Index: [2, 3]&#10;Color: (200, 200, 200)\" style=\"width: 20px; height: 20px;background-color: rgb(200, 200, 200);\"></td><td title=\"Index: [2, 4]&#10;Color: (69, 92, 245)\" style=\"width: 20px; height: 20px;background-color: rgb(69, 92, 245);\"></td></tr><tr><td title=\"Index: [3, 0]&#10;Color: (200, 200, 200)\" style=\"width: 20px; height: 20px;background-color: rgb(200, 200, 200);\"></td><td title=\"Index: [3, 1]&#10;Color: (200, 200, 200)\" style=\"width: 20px; height: 20px;background-color: rgb(200, 200, 200);\"></td><td title=\"Index: [3, 2]&#10;Color: (200, 200, 200)\" style=\"width: 20px; height: 20px;background-color: rgb(200, 200, 200);\"></td><td title=\"Index: [3, 3]&#10;Color: (200, 200, 200)\" style=\"width: 20px; height: 20px;background-color: rgb(200, 200, 200);\"></td><td title=\"Index: [3, 4]&#10;Color: (230, 115, 40)\" style=\"width: 20px; height: 20px;background-color: rgb(230, 115, 40);\"></td></tr><tr><td title=\"Index: [4, 0]&#10;Color: (69, 92, 245)\" style=\"width: 20px; height: 20px;background-color: rgb(69, 92, 245);\"></td><td title=\"Index: [4, 1]&#10;Color: (69, 92, 245)\" style=\"width: 20px; height: 20px;background-color: rgb(69, 92, 245);\"></td><td title=\"Index: [4, 2]&#10;Color: (200, 200, 200)\" style=\"width: 20px; height: 20px;background-color: rgb(200, 200, 200);\"></td><td title=\"Index: [4, 3]&#10;Color: (200, 200, 200)\" style=\"width: 20px; height: 20px;background-color: rgb(200, 200, 200);\"></td><td title=\"Index: [4, 4]&#10;Color: (69, 92, 245)\" style=\"width: 20px; height: 20px;background-color: rgb(69, 92, 245);\"></td></tr></tbody></table>"
            ],
            "text/plain": [
              "<IPython.core.display.HTML object>"
            ]
          },
          "metadata": {
            "tags": []
          }
        }
      ]
    }
  ]
}