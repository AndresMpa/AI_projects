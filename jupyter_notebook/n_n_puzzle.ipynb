{
  "nbformat": 4,
  "nbformat_minor": 0,
  "metadata": {
    "kernelspec": {
      "display_name": "Python 3",
      "language": "python",
      "name": "python3"
    },
    "language_info": {
      "codemirror_mode": {
        "name": "ipython",
        "version": 3
      },
      "file_extension": ".py",
      "mimetype": "text/x-python",
      "name": "python",
      "nbconvert_exporter": "python",
      "pygments_lexer": "ipython3",
      "version": "3.8.2"
    },
    "colab": {
      "name": "n_n_puzzle.ipynb",
      "provenance": [],
      "collapsed_sections": []
    }
  },
  "cells": [
    {
      "cell_type": "markdown",
      "metadata": {
        "id": "LampCMYzOXcj",
        "colab_type": "text"
      },
      "source": [
        "taller A estrella"
      ]
    },
    {
      "cell_type": "code",
      "metadata": {
        "id": "2DGqmDXcOXcn",
        "colab_type": "code",
        "colab": {}
      },
      "source": [
        "from simpleai.search import astar, SearchProblem\n",
        "from simpleai.search.viewers import WebViewer\n",
        "from __future__ import print_function\n",
        "from simpleai import search\n",
        "import copy"
      ],
      "execution_count": 20,
      "outputs": []
    },
    {
      "cell_type": "code",
      "metadata": {
        "id": "LLZr7lqAOXcz",
        "colab_type": "code",
        "colab": {}
      },
      "source": [
        "eight_eight_puzzle_goal = '''1-2-3\n",
        "4-5-6\n",
        "7-8-e'''\n",
        "\n",
        "eight_eight_puzzle_initial_1 = '''4-1-2\n",
        "7-e-3\n",
        "8-5-6'''"
      ],
      "execution_count": 21,
      "outputs": []
    },
    {
      "cell_type": "code",
      "metadata": {
        "id": "BeNGgf_5OXdA",
        "colab_type": "code",
        "colab": {}
      },
      "source": [
        "def hamming_for_strings(current_status, goal_state):\n",
        "    distance = 0\n",
        "    i = 0\n",
        "    for letter in current_status:\n",
        "        if letter != goal_state[i]:\n",
        "            distance += 1\n",
        "        i += 1\n",
        "    return distance\n",
        "\n",
        "\n",
        "def list_to_string(list_to_convert):\n",
        "    return '\\n'.join(['-'.join(row) for row in list_to_convert])\n",
        "\n",
        "\n",
        "def string_to_list(string_to_convert):\n",
        "    return [row.split('-') for row in string_to_convert.split('\\n')]\n",
        "\n",
        "\n",
        "def find_location(matrix, element_to_find):\n",
        "    for array_position, array in enumerate(matrix):\n",
        "        for array_element, element in enumerate(array):\n",
        "            if element == element_to_find:\n",
        "                return array_position, array_element\n",
        "                "
      ],
      "execution_count": 22,
      "outputs": []
    },
    {
      "cell_type": "code",
      "metadata": {
        "id": "WEu8Jzx-OXdb",
        "colab_type": "code",
        "colab": {
          "base_uri": "https://localhost:8080/",
          "height": 642
        },
        "outputId": "a861fe6e-001b-409b-9f63-4104e60cd35b"
      },
      "source": [
        "goal_positions = {}\n",
        "rows_goal = string_to_list(eight_eight_puzzle_goal)\n",
        "for number in '12345678e':\n",
        "    goal_positions[number] = find_location(rows_goal, number)\n",
        "\n",
        "\n",
        "class AirplaneScheduleProblem(search.SearchProblem, ABC):\n",
        "    def actions(self, current_state):\n",
        "        rows = string_to_list(current_state)\n",
        "        row_e, col_e = find_location(rows, 'e')\n",
        "\n",
        "        actions = []\n",
        "        if row_e > 0:\n",
        "            actions.append(rows[row_e - 1][col_e])\n",
        "        if row_e < 2:\n",
        "            actions.append(rows[row_e + 1][col_e])\n",
        "        if col_e > 0:\n",
        "            actions.append(rows[row_e][col_e - 1])\n",
        "        if col_e < 2:\n",
        "            actions.append(rows[row_e][col_e + 1])\n",
        "\n",
        "        return actions\n",
        "\n",
        "    def result(self, current_state, next_action):\n",
        "        rows = string_to_list(current_state)\n",
        "        row_e, col_e = find_location(rows, 'e')\n",
        "        row_n, col_n = find_location(rows, next_action)\n",
        "\n",
        "        rows[row_e][col_e], rows[row_n][col_n] = rows[row_n][col_n], rows[row_e][col_e]\n",
        "\n",
        "        return list_to_string(rows)\n",
        "\n",
        "    def is_goal(self, current_state):\n",
        "        return current_state == eight_eight_puzzle_goal\n",
        "\n",
        "    def cost(self, next_action, state_1, state_2):\n",
        "        return 1\n",
        "\n",
        "    def heuristic(self, current_state):\n",
        "        distance = hamming_for_strings(current_state, eight_eight_puzzle_goal)\n",
        "        return distance\n",
        "\n",
        "\n",
        "result = search.astar(AirplaneScheduleProblem(eight_eight_puzzle_initial_1))\n",
        "\n",
        "for action, state in result.path():\n",
        "    print('Move number', action)\n",
        "    print(state)\n"
      ],
      "execution_count": 23,
      "outputs": [
        {
          "output_type": "stream",
          "text": [
            "Move number None\n",
            "4-1-2\n",
            "7-e-3\n",
            "8-5-6\n",
            "Move number 5\n",
            "4-1-2\n",
            "7-5-3\n",
            "8-e-6\n",
            "Move number 8\n",
            "4-1-2\n",
            "7-5-3\n",
            "e-8-6\n",
            "Move number 7\n",
            "4-1-2\n",
            "e-5-3\n",
            "7-8-6\n",
            "Move number 4\n",
            "e-1-2\n",
            "4-5-3\n",
            "7-8-6\n",
            "Move number 1\n",
            "1-e-2\n",
            "4-5-3\n",
            "7-8-6\n",
            "Move number 2\n",
            "1-2-e\n",
            "4-5-3\n",
            "7-8-6\n",
            "Move number 3\n",
            "1-2-3\n",
            "4-5-e\n",
            "7-8-6\n",
            "Move number 6\n",
            "1-2-3\n",
            "4-5-6\n",
            "7-8-e\n"
          ],
          "name": "stdout"
        }
      ]
    },
    {
      "cell_type": "markdown",
      "metadata": {
        "id": "at2Q36gHOXdl",
        "colab_type": "text"
      },
      "source": [
        "Ejemplo busqueda documentacion A estrealla de simple"
      ]
    }
  ]
}